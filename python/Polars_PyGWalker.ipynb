{
 "cells": [
  {
   "cell_type": "code",
   "execution_count": 1,
   "id": "ef24579b-dec0-48d9-b3a0-1494583d1e9b",
   "metadata": {},
   "outputs": [
    {
     "name": "stdout",
     "output_type": "stream",
     "text": [
      "Requirement already satisfied: polars in /home/user/Desktop/jupy/jup_notebook/lib/python3.8/site-packages (1.2.1)\n"
     ]
    }
   ],
   "source": [
    "!pip install polars"
   ]
  },
  {
   "cell_type": "code",
   "execution_count": 5,
   "id": "07fb743b-685d-478c-a869-752f363362bd",
   "metadata": {},
   "outputs": [
    {
     "name": "stdout",
     "output_type": "stream",
     "text": [
      "\n",
      "Usage:   \n",
      "  pip install [options] <requirement specifier> [package-index-options] ...\n",
      "  pip install [options] -r <requirements file> [package-index-options] ...\n",
      "  pip install [options] [-e] <vcs project url> ...\n",
      "  pip install [options] [-e] <local project path> ...\n",
      "  pip install [options] <archive url/path> ...\n",
      "\n",
      "--verbose option does not take a value\n"
     ]
    }
   ],
   "source": [
    "!pip install pygwalker --verbose=False"
   ]
  },
  {
   "cell_type": "code",
   "execution_count": 6,
   "id": "8b52df2f-c8f2-4679-b386-cc3178ed5b38",
   "metadata": {},
   "outputs": [],
   "source": [
    "import polars as pl\n",
    "import pygwalker as pyg"
   ]
  },
  {
   "cell_type": "code",
   "execution_count": 7,
   "id": "b18a575d-207c-402d-9982-e467ec72db24",
   "metadata": {},
   "outputs": [],
   "source": [
    "df = pl.DataFrame({\n",
    "    \"column1\": [1, 2, 3, 4, 5],\n",
    "    \"column2\": [\"a\", \"b\", \"c\", \"d\", \"e\"],\n",
    "    \"column3\": [5, 4, 3, 2, 1]\n",
    "})"
   ]
  },
  {
   "cell_type": "code",
   "execution_count": 9,
   "id": "7f0bbecc-c82d-47cf-926a-17c615fe57e7",
   "metadata": {},
   "outputs": [
    {
     "data": {
      "application/vnd.jupyter.widget-view+json": {
       "model_id": "d04b2683a0d64d3ca5f60330fe650bce",
       "version_major": 2,
       "version_minor": 0
      },
      "text/plain": [
       "Box(children=(HTML(value='\\n<div id=\"ifr-pyg-00061e1fa20035b56wokzIODTCqhXbZ3\" style=\"height: auto\">\\n    <hea…"
      ]
     },
     "metadata": {},
     "output_type": "display_data"
    },
    {
     "data": {
      "text/html": [],
      "text/plain": [
       "<IPython.core.display.HTML object>"
      ]
     },
     "metadata": {},
     "output_type": "display_data"
    }
   ],
   "source": [
    "gwalker = pyg.walk(df)"
   ]
  },
  {
   "cell_type": "code",
   "execution_count": null,
   "id": "48c6932b-5668-47c0-bc93-fe25423bc806",
   "metadata": {},
   "outputs": [],
   "source": []
  }
 ],
 "metadata": {
  "kernelspec": {
   "display_name": "Python 3 (ipykernel)",
   "language": "python",
   "name": "python3"
  },
  "language_info": {
   "codemirror_mode": {
    "name": "ipython",
    "version": 3
   },
   "file_extension": ".py",
   "mimetype": "text/x-python",
   "name": "python",
   "nbconvert_exporter": "python",
   "pygments_lexer": "ipython3",
   "version": "3.8.10"
  }
 },
 "nbformat": 4,
 "nbformat_minor": 5
}
