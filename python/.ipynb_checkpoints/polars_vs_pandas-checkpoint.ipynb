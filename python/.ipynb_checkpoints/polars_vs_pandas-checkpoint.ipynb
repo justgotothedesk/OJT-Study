{
 "cells": [
  {
   "cell_type": "markdown",
   "id": "0d84bea7-1d2f-4f2b-b9fc-6e4314ccfe19",
   "metadata": {},
   "source": [
    "## 대규모 데이터에서의 Polars와 Pandas 모듈의 속도 차이 비교"
   ]
  },
  {
   "cell_type": "markdown",
   "id": "cdc04d85-2ce0-4475-98b6-2c80fab5c219",
   "metadata": {},
   "source": [
    "#### 고사양의 CPU의 경우에는 1번 cell 사용. 그렇지 않은 경우, 2번 cell 사용"
   ]
  },
  {
   "cell_type": "code",
   "execution_count": 2,
   "id": "945a06a3-cfb2-44af-a67e-eba85648d63c",
   "metadata": {},
   "outputs": [],
   "source": [
    "# !pip install polars"
   ]
  },
  {
   "cell_type": "code",
   "execution_count": 3,
   "id": "8cb9cca1-9ebf-48a3-b8d0-076d223fc01a",
   "metadata": {},
   "outputs": [
    {
     "name": "stdout",
     "output_type": "stream",
     "text": [
      "Requirement already satisfied: polars-lts-cpu in /home/user/Desktop/jupy/jup_notebook/lib/python3.8/site-packages (1.2.1)\n"
     ]
    }
   ],
   "source": [
    "!pip install polars-lts-cpu"
   ]
  },
  {
   "cell_type": "code",
   "execution_count": 4,
   "id": "18b35dd5-8ab4-4027-bd14-287090a8f0b6",
   "metadata": {},
   "outputs": [
    {
     "name": "stdout",
     "output_type": "stream",
     "text": [
      "Requirement already satisfied: pandas in /home/user/Desktop/jupy/jup_notebook/lib/python3.8/site-packages (2.0.3)\n",
      "Requirement already satisfied: python-dateutil>=2.8.2 in /home/user/Desktop/jupy/jup_notebook/lib/python3.8/site-packages (from pandas) (2.9.0.post0)\n",
      "Requirement already satisfied: pytz>=2020.1 in /home/user/Desktop/jupy/jup_notebook/lib/python3.8/site-packages (from pandas) (2024.1)\n",
      "Requirement already satisfied: tzdata>=2022.1 in /home/user/Desktop/jupy/jup_notebook/lib/python3.8/site-packages (from pandas) (2024.1)\n",
      "Requirement already satisfied: numpy>=1.20.3 in /home/user/Desktop/jupy/jup_notebook/lib/python3.8/site-packages (from pandas) (1.24.4)\n",
      "Requirement already satisfied: six>=1.5 in /home/user/Desktop/jupy/jup_notebook/lib/python3.8/site-packages (from python-dateutil>=2.8.2->pandas) (1.16.0)\n"
     ]
    }
   ],
   "source": [
    "!pip install pandas"
   ]
  },
  {
   "cell_type": "code",
   "execution_count": 5,
   "id": "defa4aa9-a478-45c6-ba2b-876a3f703871",
   "metadata": {},
   "outputs": [
    {
     "name": "stdout",
     "output_type": "stream",
     "text": [
      "Requirement already satisfied: numpy in /home/user/Desktop/jupy/jup_notebook/lib/python3.8/site-packages (1.24.4)\n"
     ]
    }
   ],
   "source": [
    "!pip install numpy"
   ]
  },
  {
   "cell_type": "markdown",
   "id": "4b0fa3df-2ec3-427d-be7e-4fcd8f499db0",
   "metadata": {},
   "source": [
    "## 1. 10**7개의 데이터일 때"
   ]
  },
  {
   "cell_type": "code",
   "execution_count": 6,
   "id": "8a51c986-9d9b-49c4-9b5b-0ee84fea77be",
   "metadata": {},
   "outputs": [],
   "source": [
    "import polars as pl"
   ]
  },
  {
   "cell_type": "code",
   "execution_count": 7,
   "id": "a59d2a4e-31a1-41b6-b6b6-3e24b85849f8",
   "metadata": {},
   "outputs": [],
   "source": [
    "import pandas as pd"
   ]
  },
  {
   "cell_type": "code",
   "execution_count": 8,
   "id": "2792ddf9-36d5-42ba-9842-170c9b2acb56",
   "metadata": {},
   "outputs": [],
   "source": [
    "import numpy as np\n",
    "import time"
   ]
  },
  {
   "cell_type": "code",
   "execution_count": 9,
   "id": "f03b4e9f-b1f0-4c0b-9ad4-12ac4a14728c",
   "metadata": {},
   "outputs": [],
   "source": [
    "def generate_data(size):\n",
    "    np.random.seed(42)\n",
    "    data = {\n",
    "        \"category\": np.random.choice(['A', 'B', 'C', 'D'], size = size),\n",
    "        \"value\": np.random.rand(size)\n",
    "    }\n",
    "\n",
    "    return data"
   ]
  },
  {
   "cell_type": "code",
   "execution_count": 10,
   "id": "d0e1c48f-f1e5-4ae2-b3ad-608eb511b734",
   "metadata": {},
   "outputs": [],
   "source": [
    "def pandas_experiment(data):\n",
    "    df = pd.DataFrame(data)\n",
    "    start_time = time.time()\n",
    "    result = df.groupby(\"category\")[\"value\"].sum()\n",
    "    end_time = time.time()\n",
    "\n",
    "    return end_time-start_time"
   ]
  },
  {
   "cell_type": "code",
   "execution_count": 11,
   "id": "454e4c79-28d7-4cb4-9d32-16709d7a9ec5",
   "metadata": {},
   "outputs": [],
   "source": [
    "def polars_experiment(data):\n",
    "    df = pl.DataFrame(data)\n",
    "    start_time = time.time()\n",
    "    result = df.group_by(\"category\").agg(pl.col(\"value\").sum())\n",
    "    end_time = time.time()\n",
    "    \n",
    "    return end_time-start_time"
   ]
  },
  {
   "cell_type": "code",
   "execution_count": 12,
   "id": "a7d5b12e-9969-4259-94c2-ae2c5f50b264",
   "metadata": {},
   "outputs": [],
   "source": [
    "data_7 = generate_data(10**7)"
   ]
  },
  {
   "cell_type": "code",
   "execution_count": 13,
   "id": "1b0b6f49-b104-4820-8015-039c16d397f9",
   "metadata": {},
   "outputs": [
    {
     "data": {
      "text/plain": [
       "{'category': array(['C', 'D', 'A', ..., 'A', 'B', 'C'], dtype='<U1'),\n",
       " 'value': array([0.51665332, 0.93733723, 0.45094102, ..., 0.67688807, 0.43130422,\n",
       "        0.03021891])}"
      ]
     },
     "execution_count": 13,
     "metadata": {},
     "output_type": "execute_result"
    }
   ],
   "source": [
    "data_7"
   ]
  },
  {
   "cell_type": "code",
   "execution_count": 14,
   "id": "fefdbb0f-3f5a-4dd5-ade4-bec79e78840c",
   "metadata": {},
   "outputs": [],
   "source": [
    "pandas_time_7 = pandas_experiment(data_7)\n",
    "polars_time_7 = polars_experiment(data_7)"
   ]
  },
  {
   "cell_type": "code",
   "execution_count": 15,
   "id": "49234e05-62a5-429e-a8f6-3bed061145d1",
   "metadata": {},
   "outputs": [
    {
     "name": "stdout",
     "output_type": "stream",
     "text": [
      "In 10**7 datas\n",
      "Pandas Time: 0.335754 seconds\n",
      "Polars Time: 0.153627 seconds\n"
     ]
    }
   ],
   "source": [
    "print(\"In 10**7 datas\")\n",
    "print(f\"Pandas Time: {pandas_time_7:.6f} seconds\")\n",
    "print(f\"Polars Time: {polars_time_7:.6f} seconds\")"
   ]
  },
  {
   "cell_type": "markdown",
   "id": "4c485fa2-0c69-4870-996b-9b3cbd274aa9",
   "metadata": {},
   "source": [
    "#### 코드를 실행할 때마다, 시간은 다르게 나오지만 polars가 항상 더 빠른 것을 확인할 수가 있다."
   ]
  },
  {
   "cell_type": "markdown",
   "id": "9c28789f-2e18-4073-adaf-c550379604aa",
   "metadata": {},
   "source": [
    "## 2. 10**8개의 데이터일 때"
   ]
  },
  {
   "cell_type": "code",
   "execution_count": 16,
   "id": "502b2d39-c83b-4c96-b86e-cf706dacf75c",
   "metadata": {},
   "outputs": [],
   "source": [
    "data_8 = generate_data(10**8)"
   ]
  },
  {
   "cell_type": "code",
   "execution_count": 17,
   "id": "a0965dfe-d231-4d82-ac28-b6d678f08915",
   "metadata": {},
   "outputs": [
    {
     "data": {
      "text/plain": [
       "{'category': array(['C', 'D', 'A', ..., 'D', 'A', 'A'], dtype='<U1'),\n",
       " 'value': array([0.68004708, 0.15708097, 0.61042311, ..., 0.68760863, 0.0647596 ,\n",
       "        0.02103218])}"
      ]
     },
     "execution_count": 17,
     "metadata": {},
     "output_type": "execute_result"
    }
   ],
   "source": [
    "data_8"
   ]
  },
  {
   "cell_type": "code",
   "execution_count": 18,
   "id": "ee720562-d077-4c5f-88b3-39597ed487e1",
   "metadata": {},
   "outputs": [],
   "source": [
    "pandas_time_8 = pandas_experiment(data_8)\n",
    "polars_time_8 = polars_experiment(data_8)"
   ]
  },
  {
   "cell_type": "code",
   "execution_count": 19,
   "id": "2d79a9c7-557e-445a-8288-9ef5b58ab6e8",
   "metadata": {},
   "outputs": [
    {
     "name": "stdout",
     "output_type": "stream",
     "text": [
      "In 10**8 datas\n",
      "Pandas Time: 3.145296 seconds\n",
      "Polars Time: 0.966067 seconds\n"
     ]
    }
   ],
   "source": [
    "print(\"In 10**8 datas\")\n",
    "print(f\"Pandas Time: {pandas_time_8:.6f} seconds\")\n",
    "print(f\"Polars Time: {polars_time_8:.6f} seconds\")"
   ]
  },
  {
   "cell_type": "markdown",
   "id": "0516893d-94d8-4988-869e-e4c57ad2fc78",
   "metadata": {},
   "source": [
    "#### 데이터의 크기가 더 증가할 경우, 훨씬 더 차이가 심한 것을 확인할 수가 있다."
   ]
  }
 ],
 "metadata": {
  "kernelspec": {
   "display_name": "Python 3 (ipykernel)",
   "language": "python",
   "name": "python3"
  },
  "language_info": {
   "codemirror_mode": {
    "name": "ipython",
    "version": 3
   },
   "file_extension": ".py",
   "mimetype": "text/x-python",
   "name": "python",
   "nbconvert_exporter": "python",
   "pygments_lexer": "ipython3",
   "version": "3.8.10"
  }
 },
 "nbformat": 4,
 "nbformat_minor": 5
}
