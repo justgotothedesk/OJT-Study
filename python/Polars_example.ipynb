{
 "cells": [
  {
   "cell_type": "markdown",
   "id": "0a289196-4800-495e-8a08-db27a235c0f4",
   "metadata": {},
   "source": [
    "## Polars 라이브러리 예시 코드"
   ]
  },
  {
   "cell_type": "code",
   "execution_count": 1,
   "id": "416a37c4-0dba-49f5-9d04-7393da586854",
   "metadata": {},
   "outputs": [
    {
     "name": "stdout",
     "output_type": "stream",
     "text": [
      "Requirement already satisfied: polars in /home/user/Desktop/jupy/jup_notebook/lib/python3.8/site-packages (1.2.1)\n"
     ]
    }
   ],
   "source": [
    "!pip install polars"
   ]
  },
  {
   "cell_type": "markdown",
   "id": "2d7a2427-9304-4c57-b7a8-583264ff6dbc",
   "metadata": {},
   "source": [
    "### 데이터프레임 생성"
   ]
  },
  {
   "cell_type": "code",
   "execution_count": 2,
   "id": "93e52bdb-1d93-407b-8702-bf1648958f94",
   "metadata": {},
   "outputs": [],
   "source": [
    "import polars as pl"
   ]
  },
  {
   "cell_type": "code",
   "execution_count": 4,
   "id": "016af4b0-72f6-4f44-9fba-a151bc0ad73d",
   "metadata": {},
   "outputs": [
    {
     "data": {
      "text/html": [
       "<div><style>\n",
       ".dataframe > thead > tr,\n",
       ".dataframe > tbody > tr {\n",
       "  text-align: right;\n",
       "  white-space: pre-wrap;\n",
       "}\n",
       "</style>\n",
       "<small>shape: (5, 2)</small><table border=\"1\" class=\"dataframe\"><thead><tr><th>column1</th><th>column2</th></tr><tr><td>i64</td><td>str</td></tr></thead><tbody><tr><td>1</td><td>&quot;a&quot;</td></tr><tr><td>2</td><td>&quot;b&quot;</td></tr><tr><td>3</td><td>&quot;c&quot;</td></tr><tr><td>4</td><td>&quot;d&quot;</td></tr><tr><td>5</td><td>&quot;e&quot;</td></tr></tbody></table></div>"
      ],
      "text/plain": [
       "shape: (5, 2)\n",
       "┌─────────┬─────────┐\n",
       "│ column1 ┆ column2 │\n",
       "│ ---     ┆ ---     │\n",
       "│ i64     ┆ str     │\n",
       "╞═════════╪═════════╡\n",
       "│ 1       ┆ a       │\n",
       "│ 2       ┆ b       │\n",
       "│ 3       ┆ c       │\n",
       "│ 4       ┆ d       │\n",
       "│ 5       ┆ e       │\n",
       "└─────────┴─────────┘"
      ]
     },
     "execution_count": 4,
     "metadata": {},
     "output_type": "execute_result"
    }
   ],
   "source": [
    "data = {\n",
    "    \"column1\": [1, 2, 3, 4, 5],\n",
    "    \"column2\": [\"a\", \"b\", \"c\", \"d\", \"e\"]\n",
    "}\n",
    "\n",
    "df = pl.DataFrame(data)\n",
    "df"
   ]
  },
  {
   "cell_type": "markdown",
   "id": "73e8f4a1-e5f8-408a-bc5f-c8e202d6a367",
   "metadata": {},
   "source": [
    "### 데이터 선택 및 필터링"
   ]
  },
  {
   "cell_type": "code",
   "execution_count": 6,
   "id": "ca3af345-a0c4-4d2f-9849-93a9e6b5ea7f",
   "metadata": {},
   "outputs": [],
   "source": [
    "df = pl.DataFrame({\n",
    "    \"column1\": [1, 2, 3, 4, 5],\n",
    "    \"column2\": [\"a\", \"b\", \"c\", \"d\", \"e\"],\n",
    "    \"column3\": [5, 4, 3, 2, 1]\n",
    "})"
   ]
  },
  {
   "cell_type": "code",
   "execution_count": 7,
   "id": "705f6f81-e22c-47b3-9d8e-935c788f8d61",
   "metadata": {},
   "outputs": [
    {
     "name": "stdout",
     "output_type": "stream",
     "text": [
      "shape: (5, 2)\n",
      "┌─────────┬─────────┐\n",
      "│ column1 ┆ column2 │\n",
      "│ ---     ┆ ---     │\n",
      "│ i64     ┆ str     │\n",
      "╞═════════╪═════════╡\n",
      "│ 1       ┆ a       │\n",
      "│ 2       ┆ b       │\n",
      "│ 3       ┆ c       │\n",
      "│ 4       ┆ d       │\n",
      "│ 5       ┆ e       │\n",
      "└─────────┴─────────┘\n"
     ]
    }
   ],
   "source": [
    "selected_columns = df.select([\"column1\", \"column2\"])\n",
    "print(selected_columns)"
   ]
  },
  {
   "cell_type": "code",
   "execution_count": 8,
   "id": "5073b16a-1c47-498f-8cef-ad8fb2ae2915",
   "metadata": {},
   "outputs": [
    {
     "name": "stdout",
     "output_type": "stream",
     "text": [
      "shape: (3, 3)\n",
      "┌─────────┬─────────┬─────────┐\n",
      "│ column1 ┆ column2 ┆ column3 │\n",
      "│ ---     ┆ ---     ┆ ---     │\n",
      "│ i64     ┆ str     ┆ i64     │\n",
      "╞═════════╪═════════╪═════════╡\n",
      "│ 3       ┆ c       ┆ 3       │\n",
      "│ 4       ┆ d       ┆ 2       │\n",
      "│ 5       ┆ e       ┆ 1       │\n",
      "└─────────┴─────────┴─────────┘\n"
     ]
    }
   ],
   "source": [
    "filtered_rows = df.filter(pl.col(\"column1\") > 2)\n",
    "print(filtered_rows)"
   ]
  },
  {
   "cell_type": "markdown",
   "id": "2cd6cf55-96ce-4916-a312-248912f8e14e",
   "metadata": {},
   "source": [
    "### 데이터 변환"
   ]
  },
  {
   "cell_type": "code",
   "execution_count": 9,
   "id": "b3e1589d-9d69-4698-80e6-41ce58a94a80",
   "metadata": {},
   "outputs": [],
   "source": [
    "df = pl.DataFrame({\n",
    "    \"column1\": [1, 2, 3, 4, 5],\n",
    "    \"column2\": [\"a\", \"b\", \"c\", \"d\", \"e\"]\n",
    "})"
   ]
  },
  {
   "cell_type": "code",
   "execution_count": 10,
   "id": "a8741200-a0f6-4a7d-8f9e-d64987450ca4",
   "metadata": {},
   "outputs": [
    {
     "data": {
      "text/html": [
       "<div><style>\n",
       ".dataframe > thead > tr,\n",
       ".dataframe > tbody > tr {\n",
       "  text-align: right;\n",
       "  white-space: pre-wrap;\n",
       "}\n",
       "</style>\n",
       "<small>shape: (5, 3)</small><table border=\"1\" class=\"dataframe\"><thead><tr><th>column1</th><th>column2</th><th>double_column1</th></tr><tr><td>i64</td><td>str</td><td>i64</td></tr></thead><tbody><tr><td>1</td><td>&quot;a&quot;</td><td>2</td></tr><tr><td>2</td><td>&quot;b&quot;</td><td>4</td></tr><tr><td>3</td><td>&quot;c&quot;</td><td>6</td></tr><tr><td>4</td><td>&quot;d&quot;</td><td>8</td></tr><tr><td>5</td><td>&quot;e&quot;</td><td>10</td></tr></tbody></table></div>"
      ],
      "text/plain": [
       "shape: (5, 3)\n",
       "┌─────────┬─────────┬────────────────┐\n",
       "│ column1 ┆ column2 ┆ double_column1 │\n",
       "│ ---     ┆ ---     ┆ ---            │\n",
       "│ i64     ┆ str     ┆ i64            │\n",
       "╞═════════╪═════════╪════════════════╡\n",
       "│ 1       ┆ a       ┆ 2              │\n",
       "│ 2       ┆ b       ┆ 4              │\n",
       "│ 3       ┆ c       ┆ 6              │\n",
       "│ 4       ┆ d       ┆ 8              │\n",
       "│ 5       ┆ e       ┆ 10             │\n",
       "└─────────┴─────────┴────────────────┘"
      ]
     },
     "execution_count": 10,
     "metadata": {},
     "output_type": "execute_result"
    }
   ],
   "source": [
    "df = df.with_columns([\n",
    "    (pl.col(\"column1\") * 2).alias(\"double_column1\")\n",
    "])\n",
    "df"
   ]
  },
  {
   "cell_type": "markdown",
   "id": "e90ddb74-1fa3-48ee-8abd-105c36cfd357",
   "metadata": {},
   "source": [
    "### 그룹화 및 집계"
   ]
  },
  {
   "cell_type": "code",
   "execution_count": 13,
   "id": "b8000984-a231-4d7f-84fb-39e222dafe00",
   "metadata": {},
   "outputs": [
    {
     "data": {
      "text/html": [
       "<div><style>\n",
       ".dataframe > thead > tr,\n",
       ".dataframe > tbody > tr {\n",
       "  text-align: right;\n",
       "  white-space: pre-wrap;\n",
       "}\n",
       "</style>\n",
       "<small>shape: (3, 3)</small><table border=\"1\" class=\"dataframe\"><thead><tr><th>group</th><th>sum_value</th><th>mean_value</th></tr><tr><td>str</td><td>i64</td><td>f64</td></tr></thead><tbody><tr><td>&quot;C&quot;</td><td>5</td><td>5.0</td></tr><tr><td>&quot;A&quot;</td><td>3</td><td>1.5</td></tr><tr><td>&quot;B&quot;</td><td>7</td><td>3.5</td></tr></tbody></table></div>"
      ],
      "text/plain": [
       "shape: (3, 3)\n",
       "┌───────┬───────────┬────────────┐\n",
       "│ group ┆ sum_value ┆ mean_value │\n",
       "│ ---   ┆ ---       ┆ ---        │\n",
       "│ str   ┆ i64       ┆ f64        │\n",
       "╞═══════╪═══════════╪════════════╡\n",
       "│ C     ┆ 5         ┆ 5.0        │\n",
       "│ A     ┆ 3         ┆ 1.5        │\n",
       "│ B     ┆ 7         ┆ 3.5        │\n",
       "└───────┴───────────┴────────────┘"
      ]
     },
     "execution_count": 13,
     "metadata": {},
     "output_type": "execute_result"
    }
   ],
   "source": [
    "df = pl.DataFrame({\n",
    "    \"group\": [\"A\", \"A\", \"B\", \"B\", \"C\"],\n",
    "    \"value\": [1, 2, 3, 4, 5]\n",
    "})\n",
    "\n",
    "grouped_df = df.group_by(\"group\").agg([\n",
    "    pl.col(\"value\").sum().alias(\"sum_value\"),\n",
    "    pl.col(\"value\").mean().alias(\"mean_value\")\n",
    "])\n",
    "grouped_df"
   ]
  },
  {
   "cell_type": "markdown",
   "id": "d2260cc7-6062-4220-ae0a-8014d523fc27",
   "metadata": {},
   "source": [
    "### 결합 및 조인"
   ]
  },
  {
   "cell_type": "code",
   "execution_count": 16,
   "id": "c84b44bc-5c97-4d91-897e-54cf154b7d9e",
   "metadata": {},
   "outputs": [],
   "source": [
    "df1 = pl.DataFrame({\n",
    "    \"key\": [1, 2, 3],\n",
    "    \"value1\": [\"a\", \"b\", \"c\"]\n",
    "})\n",
    "\n",
    "df2 = pl.DataFrame({\n",
    "    \"key\": [1, 2, 4],\n",
    "    \"value2\": [\"x\", \"y\", \"z\"]\n",
    "})"
   ]
  },
  {
   "cell_type": "code",
   "execution_count": 17,
   "id": "c8fac80c-17ba-4998-9deb-3e685fdd9d0c",
   "metadata": {},
   "outputs": [
    {
     "data": {
      "text/html": [
       "<div><style>\n",
       ".dataframe > thead > tr,\n",
       ".dataframe > tbody > tr {\n",
       "  text-align: right;\n",
       "  white-space: pre-wrap;\n",
       "}\n",
       "</style>\n",
       "<small>shape: (2, 3)</small><table border=\"1\" class=\"dataframe\"><thead><tr><th>key</th><th>value1</th><th>value2</th></tr><tr><td>i64</td><td>str</td><td>str</td></tr></thead><tbody><tr><td>1</td><td>&quot;a&quot;</td><td>&quot;x&quot;</td></tr><tr><td>2</td><td>&quot;b&quot;</td><td>&quot;y&quot;</td></tr></tbody></table></div>"
      ],
      "text/plain": [
       "shape: (2, 3)\n",
       "┌─────┬────────┬────────┐\n",
       "│ key ┆ value1 ┆ value2 │\n",
       "│ --- ┆ ---    ┆ ---    │\n",
       "│ i64 ┆ str    ┆ str    │\n",
       "╞═════╪════════╪════════╡\n",
       "│ 1   ┆ a      ┆ x      │\n",
       "│ 2   ┆ b      ┆ y      │\n",
       "└─────┴────────┴────────┘"
      ]
     },
     "execution_count": 17,
     "metadata": {},
     "output_type": "execute_result"
    }
   ],
   "source": [
    "joined_df = df1.join(df2, on = \"key\", how = \"inner\")\n",
    "joined_df"
   ]
  },
  {
   "cell_type": "code",
   "execution_count": null,
   "id": "8f0a8d78-0f74-48c5-ad0a-f59b0bc77891",
   "metadata": {},
   "outputs": [],
   "source": []
  }
 ],
 "metadata": {
  "kernelspec": {
   "display_name": "Python 3 (ipykernel)",
   "language": "python",
   "name": "python3"
  },
  "language_info": {
   "codemirror_mode": {
    "name": "ipython",
    "version": 3
   },
   "file_extension": ".py",
   "mimetype": "text/x-python",
   "name": "python",
   "nbconvert_exporter": "python",
   "pygments_lexer": "ipython3",
   "version": "3.8.10"
  }
 },
 "nbformat": 4,
 "nbformat_minor": 5
}
